{
 "cells": [
  {
   "cell_type": "markdown",
   "metadata": {},
   "source": [
    "# Ubuntu16.04的环境配置以及基本指令的使用"
   ]
  },
  {
   "cell_type": "markdown",
   "metadata": {},
   "source": [
    "## 概述"
   ]
  },
  {
   "cell_type": "markdown",
   "metadata": {},
   "source": [
    "由于从事图像处理相关的学习，Ubuntu环境除了满足基本的使用以外，还要满足学习的需要，因此需要完善驱动，安装软件，备份与保护。</r>\n",
    "而这些基本都是在Ubuntu的终端实现的，所以我们需要首先掌握一些终端上的基本指令，在去实现相应的环境配置。"
   ]
  },
  {
   "cell_type": "markdown",
   "metadata": {},
   "source": [
    "## 基本指令"
   ]
  },
  {
   "cell_type": "markdown",
   "metadata": {},
   "source": [
    "### 如何进入终端与控制台"
   ]
  },
  {
   "cell_type": "raw",
   "metadata": {},
   "source": [
    "终端：Ctrl + Alt + T（快捷键）"
   ]
  },
  {
   "cell_type": "raw",
   "metadata": {},
   "source": [
    "控制台：Ctrl + Alt + F1 （快捷键）（进入）"
   ]
  },
  {
   "cell_type": "raw",
   "metadata": {},
   "source": [
    "控制台：Ctrl + Alt + F1 （快捷键）（退出）"
   ]
  },
  {
   "cell_type": "markdown",
   "metadata": {},
   "source": [
    "### apt指令"
   ]
  },
  {
   "cell_type": "markdown",
   "metadata": {},
   "source": [
    "apt指令一般用于二进制包和源码包，后缀名一般为.tar.gz"
   ]
  },
  {
   "cell_type": "markdown",
   "metadata": {},
   "source": [
    "安装相应的包"
   ]
  },
  {
   "cell_type": "raw",
   "metadata": {},
   "source": [
    "sudo apt-get install (name of packages)"
   ]
  },
  {
   "cell_type": "markdown",
   "metadata": {},
   "source": [
    "卸载相应的包"
   ]
  },
  {
   "cell_type": "raw",
   "metadata": {},
   "source": [
    "sudo apt-get purge (name of packages)"
   ]
  },
  {
   "cell_type": "markdown",
   "metadata": {},
   "source": [
    "### dpkg指令"
   ]
  },
  {
   "cell_type": "markdown",
   "metadata": {},
   "source": [
    "dpkg指令一般用于Debian包，后缀名一般为.deb"
   ]
  },
  {
   "cell_type": "markdown",
   "metadata": {},
   "source": [
    "安装相应的deb包"
   ]
  },
  {
   "cell_type": "raw",
   "metadata": {},
   "source": [
    "sudo dpkg -i (name of package)(加上后缀名.deb)"
   ]
  },
  {
   "cell_type": "raw",
   "metadata": {},
   "source": [
    "卸载相应的deb包"
   ]
  },
  {
   "cell_type": "raw",
   "metadata": {},
   "source": [
    "sudo dpkg -P (name of package)"
   ]
  },
  {
   "cell_type": "markdown",
   "metadata": {},
   "source": [
    "### wegt指令"
   ]
  },
  {
   "cell_type": "markdown",
   "metadata": {},
   "source": [
    "wege指令一般用于从网络上下载文件"
   ]
  },
  {
   "cell_type": "markdown",
   "metadata": {},
   "source": [
    "从网络地址获取文件"
   ]
  },
  {
   "cell_type": "raw",
   "metadata": {},
   "source": [
    "wegt URL"
   ]
  },
  {
   "cell_type": "markdown",
   "metadata": {},
   "source": [
    "### jupyter指令"
   ]
  },
  {
   "cell_type": "raw",
   "metadata": {},
   "source": [
    "以下均为快捷键"
   ]
  },
  {
   "cell_type": "raw",
   "metadata": {},
   "source": [
    "进入命令模式：Esc键"
   ]
  },
  {
   "cell_type": "raw",
   "metadata": {},
   "source": [
    "进入编辑模式：Enter键"
   ]
  },
  {
   "cell_type": "raw",
   "metadata": {},
   "source": [
    "其下插入：Alt + Enter"
   ]
  },
  {
   "cell_type": "raw",
   "metadata": {},
   "source": [
    "MarkDown：M"
   ]
  },
  {
   "cell_type": "raw",
   "metadata": {},
   "source": [
    "Raw NBConvert：R"
   ]
  },
  {
   "cell_type": "raw",
   "metadata": {},
   "source": [
    "Code：Y"
   ]
  }
 ],
 "metadata": {
  "kernelspec": {
   "display_name": "Python 3",
   "language": "python",
   "name": "python3"
  },
  "language_info": {
   "codemirror_mode": {
    "name": "ipython",
    "version": 3
   },
   "file_extension": ".py",
   "mimetype": "text/x-python",
   "name": "python",
   "nbconvert_exporter": "python",
   "pygments_lexer": "ipython3",
   "version": "3.5.2"
  }
 },
 "nbformat": 4,
 "nbformat_minor": 2
}
