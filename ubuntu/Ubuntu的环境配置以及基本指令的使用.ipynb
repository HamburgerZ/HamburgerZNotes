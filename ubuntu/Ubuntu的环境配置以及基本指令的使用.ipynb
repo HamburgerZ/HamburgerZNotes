{
 "cells": [
  {
   "cell_type": "markdown",
   "metadata": {},
   "source": [
    "# Ubuntu16.04的环境配置以及基本指令的使用"
   ]
  },
  {
   "cell_type": "markdown",
   "metadata": {},
   "source": [
    "## 概述"
   ]
  },
  {
   "cell_type": "markdown",
   "metadata": {},
   "source": [
    "<br/>由于从事图像处理相关的学习，Ubuntu环境除了满足基本的使用以外，还要满足学习的需要，因此需要完善驱动，安装软件，备份与保护。\n",
    "<br/>而这些基本都是在Ubuntu的终端实现的，所以我们需要首先掌握一些终端上的基本指令，在去实现相应的环境配置。"
   ]
  },
  {
   "cell_type": "markdown",
   "metadata": {},
   "source": [
    "## 基本指令"
   ]
  },
  {
   "cell_type": "markdown",
   "metadata": {},
   "source": [
    "### 如何进入终端与控制台"
   ]
  },
  {
   "cell_type": "markdown",
   "metadata": {},
   "source": [
    " 终端：Ctrl + Alt + T（快捷键）\n",
    "<br/> 控制台：Ctrl + Alt + F1 （快捷键）（进入）\n",
    "<br/> 控制台：Ctrl + Alt + F1 （快捷键）（退出）"
   ]
  },
  {
   "cell_type": "markdown",
   "metadata": {},
   "source": [
    "### 终端中的符号介绍"
   ]
  },
  {
   "cell_type": "markdown",
   "metadata": {},
   "source": [
    "$：表示普通用户,普通用户通常可以在指令首部添加“sudo”来获得部分root权限，用sudo su指令变身root用户\n",
    "<br/>#：表示root用户，拥有最高权限\n",
    "<br/>/：表示根目录\n",
    "<br/>~：表示用户目录环境下，如：/home/pipi/\n",
    "<br/>.：表示隐藏文件 如：~/.bashrc"
   ]
  },
  {
   "cell_type": "markdown",
   "metadata": {},
   "source": [
    "### apt指令"
   ]
  },
  {
   "cell_type": "markdown",
   "metadata": {},
   "source": [
    "apt指令一般用于二进制包和源码包，后缀名一般为.tar.gz"
   ]
  },
  {
   "cell_type": "markdown",
   "metadata": {},
   "source": [
    "安装相应的包"
   ]
  },
  {
   "cell_type": "markdown",
   "metadata": {},
   "source": [
    "sudo apt-get install (name of packages)"
   ]
  },
  {
   "cell_type": "markdown",
   "metadata": {},
   "source": [
    "卸载相应的包"
   ]
  },
  {
   "cell_type": "markdown",
   "metadata": {},
   "source": [
    "sudo apt-get purge (name of packages)"
   ]
  },
  {
   "cell_type": "markdown",
   "metadata": {},
   "source": [
    "### dpkg指令"
   ]
  },
  {
   "cell_type": "markdown",
   "metadata": {},
   "source": [
    "dpkg指令一般用于Debian包，后缀名一般为.deb"
   ]
  },
  {
   "cell_type": "markdown",
   "metadata": {},
   "source": [
    "安装相应的deb包"
   ]
  },
  {
   "cell_type": "markdown",
   "metadata": {},
   "source": [
    "sudo dpkg -i (name of package)(加上后缀名.deb)"
   ]
  },
  {
   "cell_type": "markdown",
   "metadata": {},
   "source": [
    "卸载相应的deb包"
   ]
  },
  {
   "cell_type": "markdown",
   "metadata": {},
   "source": [
    "sudo dpkg -P (name of package)"
   ]
  },
  {
   "cell_type": "markdown",
   "metadata": {},
   "source": [
    "### wegt指令与curl指令"
   ]
  },
  {
   "cell_type": "markdown",
   "metadata": {},
   "source": [
    "wege指令一般用于从网络上下载文件"
   ]
  },
  {
   "cell_type": "markdown",
   "metadata": {},
   "source": [
    "从网络地址获取文件"
   ]
  },
  {
   "cell_type": "markdown",
   "metadata": {},
   "source": [
    "wegt URL"
   ]
  },
  {
   "cell_type": "markdown",
   "metadata": {},
   "source": [
    "curl指令与wegt指令的功能类似，用于访问网页"
   ]
  },
  {
   "cell_type": "markdown",
   "metadata": {},
   "source": [
    "访问网页：\n",
    "<br/>curl URL\n",
    "<br/>保存网页上的信息：\n",
    "<br/>curl -o filename URL"
   ]
  },
  {
   "cell_type": "markdown",
   "metadata": {},
   "source": [
    "### source sh bash ./ 指令"
   ]
  },
  {
   "cell_type": "markdown",
   "metadata": {},
   "source": [
    "source(或.)命令通常用于重新执行刚修改的初始化文档,执行该指令可以无权限"
   ]
  },
  {
   "cell_type": "markdown",
   "metadata": {},
   "source": [
    "source FileName"
   ]
  },
  {
   "cell_type": "markdown",
   "metadata": {},
   "source": [
    "sh bash命令通常打开一个子shell来读取并执行FileName中命令。执行该命令可以无\"执行权限\""
   ]
  },
  {
   "cell_type": "markdown",
   "metadata": {},
   "source": [
    "sh/bash FileName"
   ]
  },
  {
   "cell_type": "markdown",
   "metadata": {},
   "source": [
    "./命令打开一个子shell来读取并执行FileName中的命令，执行该命令需要\"执行权限\""
   ]
  },
  {
   "cell_type": "markdown",
   "metadata": {},
   "source": [
    "./FileName"
   ]
  },
  {
   "cell_type": "markdown",
   "metadata": {},
   "source": [
    "### 文件管理指令"
   ]
  },
  {
   "cell_type": "markdown",
   "metadata": {},
   "source": [
    "新建文件夹"
   ]
  },
  {
   "cell_type": "markdown",
   "metadata": {},
   "source": [
    "mkdir (name of dir)"
   ]
  },
  {
   "cell_type": "markdown",
   "metadata": {},
   "source": [
    "删除文件夹"
   ]
  },
  {
   "cell_type": "markdown",
   "metadata": {},
   "source": [
    "rmdir (name of dir)"
   ]
  },
  {
   "cell_type": "markdown",
   "metadata": {},
   "source": [
    "新建文件"
   ]
  },
  {
   "cell_type": "markdown",
   "metadata": {},
   "source": [
    "rm (name of file)"
   ]
  },
  {
   "cell_type": "markdown",
   "metadata": {},
   "source": [
    "删除文件"
   ]
  },
  {
   "cell_type": "markdown",
   "metadata": {},
   "source": [
    "touch (name of file)"
   ]
  },
  {
   "cell_type": "markdown",
   "metadata": {},
   "source": [
    "打开目录"
   ]
  },
  {
   "cell_type": "markdown",
   "metadata": {},
   "source": [
    "cd (absolute path)\n",
    "<br/>for example: cd /usr/tmp/"
   ]
  },
  {
   "cell_type": "markdown",
   "metadata": {},
   "source": [
    "## 环境配置"
   ]
  },
  {
   "cell_type": "markdown",
   "metadata": {},
   "source": [
    "### 更新系统"
   ]
  },
  {
   "cell_type": "markdown",
   "metadata": {},
   "source": [
    "sudo apt-get update\n",
    "sudo apt-get upgrade"
   ]
  },
  {
   "cell_type": "markdown",
   "metadata": {},
   "source": [
    "### 完善驱动"
   ]
  },
  {
   "cell_type": "markdown",
   "metadata": {},
   "source": [
    "ubuntu16.04安装成功之后，自带有线与无线网卡驱动，可以正常上网。\n",
    "<br/>结合我个人需要，还需要在安装Nvidia的显卡驱动与相应的CUDA库。"
   ]
  },
  {
   "cell_type": "markdown",
   "metadata": {},
   "source": [
    "#### CUDA安装"
   ]
  },
  {
   "cell_type": "markdown",
   "metadata": {},
   "source": [
    "cuda8.0安装主要参照nvidia-cuda-toolkit的官方文档。\n",
    "<br/>在此对其中一句英文加以解释，原文如下："
   ]
  },
  {
   "cell_type": "markdown",
   "metadata": {},
   "source": [
    "Reboot into runlevel 3 by temporarily adding the number \"3\" and the word \"nomodeset\"\n",
    "<br/>to the end of the system's kernel boot parameters\n",
    "<br/>temporarily：随意的 kernel：核 "
   ]
  },
  {
   "cell_type": "markdown",
   "metadata": {},
   "source": [
    "临时进入runlevel3："
   ]
  },
  {
   "cell_type": "markdown",
   "metadata": {},
   "source": [
    "sudo init 3"
   ]
  },
  {
   "cell_type": "markdown",
   "metadata": {},
   "source": [
    "临时修改“nomodeset”模式"
   ]
  },
  {
   "cell_type": "markdown",
   "metadata": {},
   "source": [
    "进入配置文件：\n",
    "<br/>sudo vim /etc/default/grub\n",
    "<br/>修改GRUB_CMDLINE_LINUX_DEFAULT选项：\n",
    "<br/>GRUB_CMDLINE_LINUX_DEFAULT=“quiet splash nomodeset”\n",
    "<br/>保存退出后，更新文件：\n",
    "<br/>sudo update-grub\n",
    "<br/>同理将修改后的选项恢复，即可还原"
   ]
  },
  {
   "cell_type": "markdown",
   "metadata": {},
   "source": [
    "以下是我参考各种资料后，总结的步骤："
   ]
  },
  {
   "cell_type": "markdown",
   "metadata": {},
   "source": [
    "首先，从官网下载cuda的runfile文件，并卸载原有的驱动："
   ]
  },
  {
   "cell_type": "markdown",
   "metadata": {},
   "source": [
    "sudo apt-get purge nvidia*"
   ]
  },
  {
   "cell_type": "markdown",
   "metadata": {},
   "source": [
    "禁用nouveau："
   ]
  },
  {
   "cell_type": "markdown",
   "metadata": {},
   "source": [
    "打开编辑配置文件：\n",
    "<br/>/etc/modprobe.d/blacklist.conf\n",
    "<br/>在最后一行添加：\n",
    "<br/>blacklist nouveau\n",
    "<br/>保存后退出，执行：\n",
    "<br/>sudo update-initramfs -u\n",
    "<br/>重启后执行：\n",
    "<br/>lsmod | grep nouveau\n",
    "<br/>如果没有输出信息，说明屏蔽成功"
   ]
  },
  {
   "cell_type": "markdown",
   "metadata": {},
   "source": [
    "进入命令行界面后禁用X服务："
   ]
  },
  {
   "cell_type": "markdown",
   "metadata": {},
   "source": [
    "sudo /etc/init.d/lightdm stop"
   ]
  },
  {
   "cell_type": "markdown",
   "metadata": {},
   "source": [
    "进入runfile文件所在目录，执行："
   ]
  },
  {
   "cell_type": "markdown",
   "metadata": {},
   "source": [
    "sudo ./(name of runfile)"
   ]
  },
  {
   "cell_type": "markdown",
   "metadata": {},
   "source": [
    "在安装过程，不要安装OpenGL的库，这涉及集显与独显问题"
   ]
  },
  {
   "cell_type": "markdown",
   "metadata": {},
   "source": [
    "### 安装软件"
   ]
  },
  {
   "cell_type": "markdown",
   "metadata": {},
   "source": [
    "#### 安装搜狗输入法"
   ]
  },
  {
   "cell_type": "markdown",
   "metadata": {},
   "source": [
    "首先，下载linux版的sougou的deb包，后执行：\n",
    "<br/>sudo dpkg -i (name of sougou)\n",
    "<br/>sudo apt-get install -f \n",
    "<br/>接着，在语言支持中选择ficxt选项\n",
    "<br/>最后，重启电脑"
   ]
  },
  {
   "cell_type": "markdown",
   "metadata": {},
   "source": [
    "#### 安装vim编辑器"
   ]
  },
  {
   "cell_type": "markdown",
   "metadata": {},
   "source": [
    "sudo apt-get install vim"
   ]
  },
  {
   "cell_type": "markdown",
   "metadata": {},
   "source": [
    "#### vim指令"
   ]
  },
  {
   "cell_type": "markdown",
   "metadata": {},
   "source": [
    "打开文件："
   ]
  },
  {
   "cell_type": "markdown",
   "metadata": {},
   "source": [
    "sudo vim (path of file)"
   ]
  },
  {
   "cell_type": "markdown",
   "metadata": {},
   "source": [
    "vim编辑器中有命令行模式，也有文本编辑模式。打开文件后，默认进入编辑模式，下面介绍几个常用的快捷键："
   ]
  },
  {
   "cell_type": "markdown",
   "metadata": {},
   "source": [
    "进入命令行模式：Esc"
   ]
  },
  {
   "cell_type": "markdown",
   "metadata": {},
   "source": [
    "进入编辑模式：I"
   ]
  },
  {
   "cell_type": "markdown",
   "metadata": {},
   "source": [
    "不保存退出：:q"
   ]
  },
  {
   "cell_type": "markdown",
   "metadata": {},
   "source": [
    "保存后退出：:wq"
   ]
  },
  {
   "cell_type": "markdown",
   "metadata": {},
   "source": [
    "#### 安装jupyter-notebook"
   ]
  },
  {
   "cell_type": "markdown",
   "metadata": {},
   "source": [
    "sudo apt-get install jupyter"
   ]
  },
  {
   "cell_type": "markdown",
   "metadata": {},
   "source": [
    "在终端输入\"jupyter-notebook\"即可进入jupyter编辑页面"
   ]
  },
  {
   "cell_type": "markdown",
   "metadata": {},
   "source": [
    "#### jupyter常用快捷键"
   ]
  },
  {
   "cell_type": "markdown",
   "metadata": {},
   "source": [
    "进入命令模式：Esc"
   ]
  },
  {
   "cell_type": "markdown",
   "metadata": {},
   "source": [
    "进入编辑模式：Enter"
   ]
  },
  {
   "cell_type": "markdown",
   "metadata": {},
   "source": [
    "其下插入：Alt + Enter"
   ]
  },
  {
   "cell_type": "markdown",
   "metadata": {},
   "source": [
    "在命令模式下，切换各个单元的编辑属性，有如下快捷键盘："
   ]
  },
  {
   "cell_type": "markdown",
   "metadata": {},
   "source": [
    "MarkDown：M"
   ]
  },
  {
   "cell_type": "markdown",
   "metadata": {},
   "source": [
    "Raw NBConvert：R"
   ]
  },
  {
   "cell_type": "markdown",
   "metadata": {},
   "source": [
    "Code：Y"
   ]
  },
  {
   "cell_type": "markdown",
   "metadata": {},
   "source": [
    "#### 安装docker"
   ]
  },
  {
   "cell_type": "markdown",
   "metadata": {},
   "source": [
    "curl -sSL https://get.daocloud.io/docker | sh"
   ]
  },
  {
   "cell_type": "markdown",
   "metadata": {},
   "source": [
    "安装完成后，需要配置源，方便docker拉取docker hub上的images"
   ]
  },
  {
   "cell_type": "markdown",
   "metadata": {},
   "source": [
    "curl -sSL https://get.daocloud.io/daotools/set_mirror.sh | sh -s http://0ea3544f.m.daocloud.io"
   ]
  },
  {
   "cell_type": "markdown",
   "metadata": {},
   "source": [
    "之后根据终端提示，重启docker服务"
   ]
  },
  {
   "cell_type": "markdown",
   "metadata": {},
   "source": [
    "#### docker常用指令"
   ]
  },
  {
   "cell_type": "markdown",
   "metadata": {},
   "source": [
    "以下这些操作均是在宿主机的普通用户权限下执行"
   ]
  },
  {
   "cell_type": "markdown",
   "metadata": {},
   "source": [
    "开启与关闭docker服务"
   ]
  },
  {
   "cell_type": "markdown",
   "metadata": {},
   "source": [
    "sudo service docker start\n",
    "<br/>sudo service docker stop"
   ]
  },
  {
   "cell_type": "markdown",
   "metadata": {},
   "source": [
    "获取与删除docker镜像"
   ]
  },
  {
   "cell_type": "markdown",
   "metadata": {},
   "source": [
    "sudo docker pull (name of image)\n",
    "<br/>sudo docker rmi (name of image or ID of image)"
   ]
  },
  {
   "cell_type": "markdown",
   "metadata": {},
   "source": [
    "查看PC上的镜像与容器"
   ]
  },
  {
   "cell_type": "markdown",
   "metadata": {},
   "source": [
    "sudo docker images\n",
    "<br/>sudo docker ps -a"
   ]
  },
  {
   "cell_type": "markdown",
   "metadata": {},
   "source": [
    "新建与删除容器"
   ]
  },
  {
   "cell_type": "markdown",
   "metadata": {},
   "source": [
    "sudo docker run -t (name of docker):bash\n",
    "<br/>sudo docker rm -f (name of container)"
   ]
  },
  {
   "cell_type": "markdown",
   "metadata": {},
   "source": [
    "新建宿主机与容器的共享文件夹"
   ]
  },
  {
   "cell_type": "markdown",
   "metadata": {},
   "source": [
    "sudo docker run -v (absolute path of host):(absolute path of container)"
   ]
  },
  {
   "cell_type": "markdown",
   "metadata": {},
   "source": [
    "当然可以融合成一条语句，创建文件夹并开启容器"
   ]
  },
  {
   "cell_type": "markdown",
   "metadata": {},
   "source": [
    "sudo docker run -itv (absolute path of host):(absolute path of container) (name of image):bash"
   ]
  },
  {
   "cell_type": "markdown",
   "metadata": {},
   "source": [
    "#### 配置主题风格"
   ]
  },
  {
   "cell_type": "markdown",
   "metadata": {},
   "source": [
    "#### 配置tensorflow环境"
   ]
  },
  {
   "cell_type": "markdown",
   "metadata": {},
   "source": [
    "#### 卸载firefox浏览器并安装chrome浏览器"
   ]
  },
  {
   "cell_type": "markdown",
   "metadata": {},
   "source": [
    "### 备份与保护"
   ]
  },
  {
   "cell_type": "markdown",
   "metadata": {},
   "source": [
    "#### 备份"
   ]
  },
  {
   "cell_type": "markdown",
   "metadata": {},
   "source": [
    "首先成为root用户：\n",
    "<br/>sudo su\n",
    "<br/>可以观察到此时的$变为了#，再进入根目录：\n",
    "<br/>cd /\n",
    "<br/>将挂载设备都取掉\n",
    "<br/>再使用这条备份指令：\n",
    "<br/>tar cvpzf (name of backup).tgz –exclude=/proc –exclude=/lost+found \n",
    "<br/>–exclude=/(name of backup).tgz –exclude=/mnt –exclude=/sys /\n",
    "<br/>大概15分钟之后，备份完成，会有’tar: Error exit delayed from previous errors’提示，一般可以忽略。\n",
    "<br/>此时在根目录下就可以看到这个.tgz结尾的备份文件了。"
   ]
  },
  {
   "cell_type": "markdown",
   "metadata": {},
   "source": [
    "#### 还原"
   ]
  },
  {
   "cell_type": "markdown",
   "metadata": {},
   "source": [
    "首先成为root用户：\n",
    "<br/>sudo su\n",
    "<br/>在根目录下，安装备份文件:\n",
    "<br/>tar xvpfz backup.tgz -C\n",
    "<br/>安装完成后，要恢复在备份时被排除掉的文件夹如：\n",
    "<br/>mkdir proc\n",
    "<br/>mkdir lost+found\n",
    "<br/>mkdir mnt\n",
    "<br/>mkdir sys"
   ]
  }
 ],
 "metadata": {
  "kernelspec": {
   "display_name": "Python 3",
   "language": "python",
   "name": "python3"
  },
  "language_info": {
   "codemirror_mode": {
    "name": "ipython",
    "version": 3
   },
   "file_extension": ".py",
   "mimetype": "text/x-python",
   "name": "python",
   "nbconvert_exporter": "python",
   "pygments_lexer": "ipython3",
   "version": "3.5.2"
  }
 },
 "nbformat": 4,
 "nbformat_minor": 2
}
